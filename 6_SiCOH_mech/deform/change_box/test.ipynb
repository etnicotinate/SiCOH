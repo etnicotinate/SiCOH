{
 "cells": [
  {
   "cell_type": "code",
   "execution_count": 3,
   "metadata": {},
   "outputs": [
    {
     "name": "stdout",
     "output_type": "stream",
     "text": [
      "333SiCOH.data\n",
      "333SiCOH.data_opt.data\n",
      "calc.mod.lmp\n",
      "C.log\n",
      "displace.mod.lmp\n",
      "dump\n",
      "equil.res\n",
      "FF\n",
      "ff.mod.lmp\n",
      "log.lammps\n",
      "nohup.out\n",
      "run.sh\n",
      "sicoh.lmp\n",
      "sicoh.log\n",
      "tensor2modulus.py\n",
      "test.ipynb\n"
     ]
    },
    {
     "data": {
      "text/plain": [
       "0"
      ]
     },
     "execution_count": 3,
     "metadata": {},
     "output_type": "execute_result"
    }
   ],
   "source": [
    "import os\n",
    "os.system(\"ls\")"
   ]
  }
 ],
 "metadata": {
  "kernelspec": {
   "display_name": "base",
   "language": "python",
   "name": "python3"
  },
  "language_info": {
   "codemirror_mode": {
    "name": "ipython",
    "version": 3
   },
   "file_extension": ".py",
   "mimetype": "text/x-python",
   "name": "python",
   "nbconvert_exporter": "python",
   "pygments_lexer": "ipython3",
   "version": "3.10.13"
  }
 },
 "nbformat": 4,
 "nbformat_minor": 2
}
